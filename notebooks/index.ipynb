{
 "cells": [
  {
   "cell_type": "markdown",
   "metadata": {},
   "source": [
    "# Learn Machine Learning with Jupyter Notebook\n",
    "\n",
    "## Description\n",
    "This is an HTML version of the notebooks found in the `notebooks` directory. Use them as a reference or a guide to learn machine learning with Python.\n",
    "The assignments are included in both HTML and Jupyter Notebook formats, so you can choose the one that suits you best.\n",
    "\n",
    "## Links\n",
    "- [Lesson 1](class1.html)\n",
    "- [Lesson 2](class2.html)\n",
    "- [Lesson 3](class3.html)\n",
    "- [Lesson 4](class4.html)\n",
    "- [GitHub Repository](https://github.com/FilipParyz/MLinPython)\n",
    "\n",
    "---\n",
    "#### Author\n",
    "- [Filip Paryz](https://github.com/FilipParyz)"
   ]
  }
 ],
 "metadata": {
  "language_info": {
   "name": "python"
  }
 },
 "nbformat": 4,
 "nbformat_minor": 2
}
