{
 "cells": [
  {
   "cell_type": "markdown",
   "metadata": {},
   "source": [
    "# Hello World!\n",
    "\n",
    "## Description\n",
    "This is an HTML version of the notebooks found in the `notebooks` directory.\n",
    "\n",
    "## Links\n",
    "- [Lesson 1](class1.html)\n",
    "- [Lesson 2](class2.html)\n",
    "- [Lesson 3](class3.html)\n",
    "- [Lesson 4](class4.html)\n",
    "- [GitHub Repository](https://github.com/FilipParyz/MLinPython)"
   ]
  }
 ],
 "metadata": {
  "language_info": {
   "name": "python"
  }
 },
 "nbformat": 4,
 "nbformat_minor": 2
}
